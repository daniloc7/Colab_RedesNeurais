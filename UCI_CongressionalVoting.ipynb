{
  "nbformat": 4,
  "nbformat_minor": 0,
  "metadata": {
    "colab": {
      "name": "UCI_CongressionalVoting.ipynb",
      "provenance": [],
      "collapsed_sections": [],
      "authorship_tag": "ABX9TyN6nUEa+n4QS0ApcPHmW5Q1",
      "include_colab_link": true
    },
    "kernelspec": {
      "name": "python3",
      "display_name": "Python 3"
    },
    "language_info": {
      "name": "python"
    }
  },
  "cells": [
    {
      "cell_type": "markdown",
      "metadata": {
        "id": "view-in-github",
        "colab_type": "text"
      },
      "source": [
        "<a href=\"https://colab.research.google.com/github/daniloc7/Colab_RedesNeurais/blob/main/UCI_CongressionalVoting.ipynb\" target=\"_parent\"><img src=\"https://colab.research.google.com/assets/colab-badge.svg\" alt=\"Open In Colab\"/></a>"
      ]
    },
    {
      "cell_type": "code",
      "execution_count": null,
      "metadata": {
        "colab": {
          "base_uri": "https://localhost:8080/"
        },
        "id": "MwD6PELR9lYz",
        "outputId": "64daf0d5-0d14-4d67-c0c7-965c1ea0190f"
      },
      "outputs": [
        {
          "output_type": "stream",
          "name": "stdout",
          "text": [
            "Populating the interactive namespace from numpy and matplotlib\n"
          ]
        },
        {
          "output_type": "stream",
          "name": "stderr",
          "text": [
            "/usr/local/lib/python3.7/dist-packages/IPython/core/magics/pylab.py:160: UserWarning: pylab import has clobbered these variables: ['clf']\n",
            "`%matplotlib` prevents importing * from pylab and numpy\n",
            "  \"\\n`%matplotlib` prevents importing * from pylab and numpy\"\n"
          ]
        }
      ],
      "source": [
        "import pandas as pd\n",
        "import numpy as np\n",
        "import time\n",
        "%pylab inline"
      ]
    },
    {
      "cell_type": "code",
      "source": [
        "from sklearn import tree\n",
        "from sklearn.tree import plot_tree   \n",
        "from sklearn.tree import DecisionTreeClassifier\n",
        "# from sklearn.tree import DecisionTreeRegressor\n",
        "from sklearn.model_selection import train_test_split\n",
        "from sklearn import metrics\n",
        "from sklearn.metrics import accuracy_score\n",
        "from sklearn.metrics import classification_report\n",
        "from sklearn.naive_bayes import BernoulliNB\n",
        "from sklearn.naive_bayes import GaussianNB\n",
        "from sklearn.naive_bayes import MultinomialNB\n",
        "from sklearn.preprocessing import LabelEncoder"
      ],
      "metadata": {
        "id": "PpTE0PXF9qRJ"
      },
      "execution_count": null,
      "outputs": []
    },
    {
      "cell_type": "code",
      "source": [
        "col_names = ['class','handicapped-infants','water-project-cost-sharing','adoption-of-the-budget-resolution','physician-fee-freeze',\n",
        "             'el-salvador-aid','religious-groups-in-schools','anti-satellite-test-ban','aid-to-nicaraguan-contras',\n",
        "             'mx-missile','immigration','synfuels-corporation-cutback','education-spending','superfund-right-to-sue',\n",
        "             'crime','duty-free-exports','export-administration-act-south-africa','label']\n",
        "data = pd.read_csv(\"/content/house-votes-84.data\", header=None, names = col_names)\n",
        "le = LabelEncoder()\n",
        "for i in data.columns:\n",
        "    if i !=17:\n",
        "        data[i] = le.fit_transform(data[i])"
      ],
      "metadata": {
        "id": "HDDOwZWU9sJb"
      },
      "execution_count": null,
      "outputs": []
    },
    {
      "cell_type": "code",
      "source": [
        "decision_cols = ['handicapped-infants','water-project-cost-sharing','adoption-of-the-budget-resolution','physician-fee-freeze',\n",
        "             'el-salvador-aid','religious-groups-in-schools','anti-satellite-test-ban','aid-to-nicaraguan-contras',\n",
        "             'mx-missile','immigration','synfuels-corporation-cutback','education-spending','superfund-right-to-sue',\n",
        "             'crime','duty-free-exports','export-administration-act-south-africa']\n",
        "X = data[decision_cols]\n",
        "y = data['class']"
      ],
      "metadata": {
        "id": "_IkfrHWQ-qSm"
      },
      "execution_count": null,
      "outputs": []
    },
    {
      "cell_type": "code",
      "source": [
        "X_train, X_test, y_train, y_test = train_test_split(X, y, test_size = 0.6, random_state = 0)"
      ],
      "metadata": {
        "id": "fhM4lrgP_mTz"
      },
      "execution_count": null,
      "outputs": []
    },
    {
      "cell_type": "code",
      "source": [
        "# DecisionTreeClassifier\n",
        "clf = DecisionTreeClassifier(criterion='entropy', max_depth=17)\n",
        "clf = clf.fit(X_train, y_train)\n",
        "y_pred = clf.predict(X_test)\n",
        "print(\"Acurácia \", metrics.accuracy_score(y_test, y_pred,))\n",
        "# print(classification_report(y_test, y_pred))\n",
        "\n",
        "# classifier = MultinomialNB()\n",
        "# classifier.fit(X_train, y_train)"
      ],
      "metadata": {
        "colab": {
          "base_uri": "https://localhost:8080/"
        },
        "id": "J-WPw3Hv_oZd",
        "outputId": "6bf17c2e-04ce-4a81-f81b-63906f592724"
      },
      "execution_count": null,
      "outputs": [
        {
          "output_type": "stream",
          "name": "stdout",
          "text": [
            "Acurácia  0.9272030651340997\n"
          ]
        }
      ]
    },
    {
      "cell_type": "code",
      "source": [
        "#Naive Bayes - Multinomial\n",
        "MultClas = MultinomialNB()\n",
        "MultClas.fit(X_train, y_train)\n",
        "predict = MultClas.predict(X_test)\n",
        "print(accuracy_score(y_test, predict))\n",
        "# print(classification_report(y_test, predict))"
      ],
      "metadata": {
        "colab": {
          "base_uri": "https://localhost:8080/"
        },
        "id": "zERNCER1_q0r",
        "outputId": "fcc12391-f562-4738-9ee2-c9ead5b58cdc"
      },
      "execution_count": null,
      "outputs": [
        {
          "output_type": "stream",
          "name": "stdout",
          "text": [
            "0.8697318007662835\n"
          ]
        }
      ]
    },
    {
      "cell_type": "code",
      "source": [
        "#Naive Bayes - Bernouli\n",
        "BernClas = BernoulliNB(binarize=True)\n",
        "BernClas.fit(X_train, y_train)\n",
        "predictBern = BernClas.predict(X_test)\n",
        "print(accuracy_score(y_test, predictBern))\n",
        "# print(classification_report(y_test, predictBern))"
      ],
      "metadata": {
        "colab": {
          "base_uri": "https://localhost:8080/"
        },
        "id": "GPBrNFCu_vTy",
        "outputId": "2288335d-edeb-4f03-cf9b-f5ea3eb7340e"
      },
      "execution_count": null,
      "outputs": [
        {
          "output_type": "stream",
          "name": "stdout",
          "text": [
            "0.8659003831417624\n"
          ]
        }
      ]
    },
    {
      "cell_type": "code",
      "source": [
        "#Naive Bayes - Gaussian\n",
        "GausClas = GaussianNB()\n",
        "GausClas.fit(X_train, y_train)\n",
        "predictGaus = GausClas.predict(X_test)\n",
        "print(accuracy_score(y_test, predictGaus))\n",
        "# print(classification_report(y_test, predictGaus))"
      ],
      "metadata": {
        "colab": {
          "base_uri": "https://localhost:8080/"
        },
        "id": "EQeAt1wc_4PJ",
        "outputId": "ba953544-3bda-45b2-839f-bec4a9d3ef21"
      },
      "execution_count": null,
      "outputs": [
        {
          "output_type": "stream",
          "name": "stdout",
          "text": [
            "0.89272030651341\n"
          ]
        }
      ]
    },
    {
      "cell_type": "code",
      "source": [],
      "metadata": {
        "id": "YV1m_XTI_73l"
      },
      "execution_count": null,
      "outputs": []
    }
  ]
}
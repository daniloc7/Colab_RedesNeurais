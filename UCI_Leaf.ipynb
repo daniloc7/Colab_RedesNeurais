{
  "nbformat": 4,
  "nbformat_minor": 0,
  "metadata": {
    "colab": {
      "name": "UCI_Leaf.ipynb",
      "provenance": [],
      "collapsed_sections": [],
      "authorship_tag": "ABX9TyMEjgxGSo2C/iij0AY95Bu+",
      "include_colab_link": true
    },
    "kernelspec": {
      "name": "python3",
      "display_name": "Python 3"
    },
    "language_info": {
      "name": "python"
    },
    "accelerator": "GPU",
    "gpuClass": "standard"
  },
  "cells": [
    {
      "cell_type": "markdown",
      "metadata": {
        "id": "view-in-github",
        "colab_type": "text"
      },
      "source": [
        "<a href=\"https://colab.research.google.com/github/daniloc7/Colab_RedesNeurais/blob/main/UCI_Leaf.ipynb\" target=\"_parent\"><img src=\"https://colab.research.google.com/assets/colab-badge.svg\" alt=\"Open In Colab\"/></a>"
      ]
    },
    {
      "cell_type": "code",
      "execution_count": null,
      "metadata": {
        "colab": {
          "base_uri": "https://localhost:8080/"
        },
        "id": "KoptFY4wGH9a",
        "outputId": "5ac9187e-2765-4e93-d8df-fdc916c54976"
      },
      "outputs": [
        {
          "output_type": "stream",
          "name": "stdout",
          "text": [
            "Populating the interactive namespace from numpy and matplotlib\n"
          ]
        }
      ],
      "source": [
        "import pandas as pd\n",
        "import numpy as np\n",
        "import time\n",
        "%pylab inline"
      ]
    },
    {
      "cell_type": "code",
      "source": [
        "from sklearn import tree\n",
        "from sklearn.tree import plot_tree   \n",
        "from sklearn.tree import DecisionTreeClassifier\n",
        "# from sklearn.tree import DecisionTreeRegressor\n",
        "from sklearn.model_selection import train_test_split\n",
        "from sklearn import metrics\n",
        "from sklearn.metrics import accuracy_score\n",
        "from sklearn.metrics import classification_report\n",
        "from sklearn.naive_bayes import BernoulliNB\n",
        "from sklearn.naive_bayes import GaussianNB\n",
        "from sklearn.naive_bayes import MultinomialNB\n"
      ],
      "metadata": {
        "id": "wmcMiOFmHjY_"
      },
      "execution_count": null,
      "outputs": []
    },
    {
      "cell_type": "code",
      "source": [
        "col_names = ['Class','Specimem_Nr','Eccentricity','Aspect_Ratio','Elongation','Solidity','Stochastic_C','Isoperimetric_F','Maximal_I_P','Lobedness','Avg_I','Avg_C','Third_M','Uniformity','Entropy','label']\n",
        "data = pd.read_csv(\"/content/leaf.csv\", header=None, names = col_names)\n",
        "data.head()"
      ],
      "metadata": {
        "id": "b3ZcITTgK_Dz",
        "colab": {
          "base_uri": "https://localhost:8080/",
          "height": 270
        },
        "outputId": "b3874176-bb03-4313-f0dc-6fca5ac6a45d"
      },
      "execution_count": null,
      "outputs": [
        {
          "output_type": "execute_result",
          "data": {
            "text/plain": [
              "   Class  Specimem_Nr  Eccentricity  Aspect_Ratio  Elongation  Solidity  \\\n",
              "0      1            1       0.72694        1.4742     0.32396   0.98535   \n",
              "1      1            2       0.74173        1.5257     0.36116   0.98152   \n",
              "2      1            3       0.76722        1.5725     0.38998   0.97755   \n",
              "3      1            4       0.73797        1.4597     0.35376   0.97566   \n",
              "4      1            5       0.82301        1.7707     0.44462   0.97698   \n",
              "\n",
              "   Stochastic_C  Isoperimetric_F  Maximal_I_P  Lobedness     Avg_I     Avg_C  \\\n",
              "0       1.00000          0.83592     0.004657   0.003947  0.047790  0.127950   \n",
              "1       0.99825          0.79867     0.005242   0.005002  0.024160  0.090476   \n",
              "2       1.00000          0.80812     0.007457   0.010121  0.011897  0.057445   \n",
              "3       1.00000          0.81697     0.006877   0.008607  0.015950  0.065491   \n",
              "4       1.00000          0.75493     0.007428   0.010042  0.007938  0.045339   \n",
              "\n",
              "    Third_M  Uniformity   Entropy    label  \n",
              "0  0.016108    0.005232  0.000275  1.17560  \n",
              "1  0.008119    0.002708  0.000075  0.69659  \n",
              "2  0.003289    0.000921  0.000038  0.44348  \n",
              "3  0.004271    0.001154  0.000066  0.58785  \n",
              "4  0.002051    0.000560  0.000024  0.34214  "
            ],
            "text/html": [
              "\n",
              "  <div id=\"df-cd789cee-0649-47a9-85a1-565b6b2c6afd\">\n",
              "    <div class=\"colab-df-container\">\n",
              "      <div>\n",
              "<style scoped>\n",
              "    .dataframe tbody tr th:only-of-type {\n",
              "        vertical-align: middle;\n",
              "    }\n",
              "\n",
              "    .dataframe tbody tr th {\n",
              "        vertical-align: top;\n",
              "    }\n",
              "\n",
              "    .dataframe thead th {\n",
              "        text-align: right;\n",
              "    }\n",
              "</style>\n",
              "<table border=\"1\" class=\"dataframe\">\n",
              "  <thead>\n",
              "    <tr style=\"text-align: right;\">\n",
              "      <th></th>\n",
              "      <th>Class</th>\n",
              "      <th>Specimem_Nr</th>\n",
              "      <th>Eccentricity</th>\n",
              "      <th>Aspect_Ratio</th>\n",
              "      <th>Elongation</th>\n",
              "      <th>Solidity</th>\n",
              "      <th>Stochastic_C</th>\n",
              "      <th>Isoperimetric_F</th>\n",
              "      <th>Maximal_I_P</th>\n",
              "      <th>Lobedness</th>\n",
              "      <th>Avg_I</th>\n",
              "      <th>Avg_C</th>\n",
              "      <th>Third_M</th>\n",
              "      <th>Uniformity</th>\n",
              "      <th>Entropy</th>\n",
              "      <th>label</th>\n",
              "    </tr>\n",
              "  </thead>\n",
              "  <tbody>\n",
              "    <tr>\n",
              "      <th>0</th>\n",
              "      <td>1</td>\n",
              "      <td>1</td>\n",
              "      <td>0.72694</td>\n",
              "      <td>1.4742</td>\n",
              "      <td>0.32396</td>\n",
              "      <td>0.98535</td>\n",
              "      <td>1.00000</td>\n",
              "      <td>0.83592</td>\n",
              "      <td>0.004657</td>\n",
              "      <td>0.003947</td>\n",
              "      <td>0.047790</td>\n",
              "      <td>0.127950</td>\n",
              "      <td>0.016108</td>\n",
              "      <td>0.005232</td>\n",
              "      <td>0.000275</td>\n",
              "      <td>1.17560</td>\n",
              "    </tr>\n",
              "    <tr>\n",
              "      <th>1</th>\n",
              "      <td>1</td>\n",
              "      <td>2</td>\n",
              "      <td>0.74173</td>\n",
              "      <td>1.5257</td>\n",
              "      <td>0.36116</td>\n",
              "      <td>0.98152</td>\n",
              "      <td>0.99825</td>\n",
              "      <td>0.79867</td>\n",
              "      <td>0.005242</td>\n",
              "      <td>0.005002</td>\n",
              "      <td>0.024160</td>\n",
              "      <td>0.090476</td>\n",
              "      <td>0.008119</td>\n",
              "      <td>0.002708</td>\n",
              "      <td>0.000075</td>\n",
              "      <td>0.69659</td>\n",
              "    </tr>\n",
              "    <tr>\n",
              "      <th>2</th>\n",
              "      <td>1</td>\n",
              "      <td>3</td>\n",
              "      <td>0.76722</td>\n",
              "      <td>1.5725</td>\n",
              "      <td>0.38998</td>\n",
              "      <td>0.97755</td>\n",
              "      <td>1.00000</td>\n",
              "      <td>0.80812</td>\n",
              "      <td>0.007457</td>\n",
              "      <td>0.010121</td>\n",
              "      <td>0.011897</td>\n",
              "      <td>0.057445</td>\n",
              "      <td>0.003289</td>\n",
              "      <td>0.000921</td>\n",
              "      <td>0.000038</td>\n",
              "      <td>0.44348</td>\n",
              "    </tr>\n",
              "    <tr>\n",
              "      <th>3</th>\n",
              "      <td>1</td>\n",
              "      <td>4</td>\n",
              "      <td>0.73797</td>\n",
              "      <td>1.4597</td>\n",
              "      <td>0.35376</td>\n",
              "      <td>0.97566</td>\n",
              "      <td>1.00000</td>\n",
              "      <td>0.81697</td>\n",
              "      <td>0.006877</td>\n",
              "      <td>0.008607</td>\n",
              "      <td>0.015950</td>\n",
              "      <td>0.065491</td>\n",
              "      <td>0.004271</td>\n",
              "      <td>0.001154</td>\n",
              "      <td>0.000066</td>\n",
              "      <td>0.58785</td>\n",
              "    </tr>\n",
              "    <tr>\n",
              "      <th>4</th>\n",
              "      <td>1</td>\n",
              "      <td>5</td>\n",
              "      <td>0.82301</td>\n",
              "      <td>1.7707</td>\n",
              "      <td>0.44462</td>\n",
              "      <td>0.97698</td>\n",
              "      <td>1.00000</td>\n",
              "      <td>0.75493</td>\n",
              "      <td>0.007428</td>\n",
              "      <td>0.010042</td>\n",
              "      <td>0.007938</td>\n",
              "      <td>0.045339</td>\n",
              "      <td>0.002051</td>\n",
              "      <td>0.000560</td>\n",
              "      <td>0.000024</td>\n",
              "      <td>0.34214</td>\n",
              "    </tr>\n",
              "  </tbody>\n",
              "</table>\n",
              "</div>\n",
              "      <button class=\"colab-df-convert\" onclick=\"convertToInteractive('df-cd789cee-0649-47a9-85a1-565b6b2c6afd')\"\n",
              "              title=\"Convert this dataframe to an interactive table.\"\n",
              "              style=\"display:none;\">\n",
              "        \n",
              "  <svg xmlns=\"http://www.w3.org/2000/svg\" height=\"24px\"viewBox=\"0 0 24 24\"\n",
              "       width=\"24px\">\n",
              "    <path d=\"M0 0h24v24H0V0z\" fill=\"none\"/>\n",
              "    <path d=\"M18.56 5.44l.94 2.06.94-2.06 2.06-.94-2.06-.94-.94-2.06-.94 2.06-2.06.94zm-11 1L8.5 8.5l.94-2.06 2.06-.94-2.06-.94L8.5 2.5l-.94 2.06-2.06.94zm10 10l.94 2.06.94-2.06 2.06-.94-2.06-.94-.94-2.06-.94 2.06-2.06.94z\"/><path d=\"M17.41 7.96l-1.37-1.37c-.4-.4-.92-.59-1.43-.59-.52 0-1.04.2-1.43.59L10.3 9.45l-7.72 7.72c-.78.78-.78 2.05 0 2.83L4 21.41c.39.39.9.59 1.41.59.51 0 1.02-.2 1.41-.59l7.78-7.78 2.81-2.81c.8-.78.8-2.07 0-2.86zM5.41 20L4 18.59l7.72-7.72 1.47 1.35L5.41 20z\"/>\n",
              "  </svg>\n",
              "      </button>\n",
              "      \n",
              "  <style>\n",
              "    .colab-df-container {\n",
              "      display:flex;\n",
              "      flex-wrap:wrap;\n",
              "      gap: 12px;\n",
              "    }\n",
              "\n",
              "    .colab-df-convert {\n",
              "      background-color: #E8F0FE;\n",
              "      border: none;\n",
              "      border-radius: 50%;\n",
              "      cursor: pointer;\n",
              "      display: none;\n",
              "      fill: #1967D2;\n",
              "      height: 32px;\n",
              "      padding: 0 0 0 0;\n",
              "      width: 32px;\n",
              "    }\n",
              "\n",
              "    .colab-df-convert:hover {\n",
              "      background-color: #E2EBFA;\n",
              "      box-shadow: 0px 1px 2px rgba(60, 64, 67, 0.3), 0px 1px 3px 1px rgba(60, 64, 67, 0.15);\n",
              "      fill: #174EA6;\n",
              "    }\n",
              "\n",
              "    [theme=dark] .colab-df-convert {\n",
              "      background-color: #3B4455;\n",
              "      fill: #D2E3FC;\n",
              "    }\n",
              "\n",
              "    [theme=dark] .colab-df-convert:hover {\n",
              "      background-color: #434B5C;\n",
              "      box-shadow: 0px 1px 3px 1px rgba(0, 0, 0, 0.15);\n",
              "      filter: drop-shadow(0px 1px 2px rgba(0, 0, 0, 0.3));\n",
              "      fill: #FFFFFF;\n",
              "    }\n",
              "  </style>\n",
              "\n",
              "      <script>\n",
              "        const buttonEl =\n",
              "          document.querySelector('#df-cd789cee-0649-47a9-85a1-565b6b2c6afd button.colab-df-convert');\n",
              "        buttonEl.style.display =\n",
              "          google.colab.kernel.accessAllowed ? 'block' : 'none';\n",
              "\n",
              "        async function convertToInteractive(key) {\n",
              "          const element = document.querySelector('#df-cd789cee-0649-47a9-85a1-565b6b2c6afd');\n",
              "          const dataTable =\n",
              "            await google.colab.kernel.invokeFunction('convertToInteractive',\n",
              "                                                     [key], {});\n",
              "          if (!dataTable) return;\n",
              "\n",
              "          const docLinkHtml = 'Like what you see? Visit the ' +\n",
              "            '<a target=\"_blank\" href=https://colab.research.google.com/notebooks/data_table.ipynb>data table notebook</a>'\n",
              "            + ' to learn more about interactive tables.';\n",
              "          element.innerHTML = '';\n",
              "          dataTable['output_type'] = 'display_data';\n",
              "          await google.colab.output.renderOutput(dataTable, element);\n",
              "          const docLink = document.createElement('div');\n",
              "          docLink.innerHTML = docLinkHtml;\n",
              "          element.appendChild(docLink);\n",
              "        }\n",
              "      </script>\n",
              "    </div>\n",
              "  </div>\n",
              "  "
            ]
          },
          "metadata": {},
          "execution_count": 3
        }
      ]
    },
    {
      "cell_type": "code",
      "source": [
        "decision_cols = ['Eccentricity','Aspect_Ratio','Elongation','Solidity','Stochastic_C','Isoperimetric_F','Maximal_I_P','Lobedness','Avg_I','Avg_C','Third_M','Uniformity','Entropy']\n",
        "X = data[decision_cols]\n",
        "y = data['Class']"
      ],
      "metadata": {
        "id": "56mgVEvPRjOA"
      },
      "execution_count": null,
      "outputs": []
    },
    {
      "cell_type": "code",
      "source": [
        "X_train, X_test, y_train, y_test = train_test_split(X, y, test_size = 0.2, random_state = 0)"
      ],
      "metadata": {
        "id": "Pg7XGyROTq7j"
      },
      "execution_count": null,
      "outputs": []
    },
    {
      "cell_type": "code",
      "source": [
        "# DecisionTreeClassifier\n",
        "clf = DecisionTreeClassifier(criterion='entropy', max_depth=15)\n",
        "clf = clf.fit(X_train, y_train)\n",
        "y_pred = clf.predict(X_test)\n",
        "print(\"Acurácia \", metrics.accuracy_score(y_test, y_pred,))\n",
        "# print(classification_report(y_test, y_pred))\n",
        "\n",
        "# classifier = MultinomialNB()\n",
        "# classifier.fit(X_train, y_train)"
      ],
      "metadata": {
        "id": "pXZCHzOTXIOF",
        "colab": {
          "base_uri": "https://localhost:8080/"
        },
        "outputId": "1f134b2d-590c-4cf4-d37d-991c3a429bc8"
      },
      "execution_count": null,
      "outputs": [
        {
          "output_type": "stream",
          "name": "stdout",
          "text": [
            "Acurácia  0.5147058823529411\n"
          ]
        }
      ]
    },
    {
      "cell_type": "code",
      "source": [
        "#Árvore de decisão\n",
        "data.plot(figsize = (15,10))\n",
        "# pylab.figure(figsize = (15,10))\n",
        "plot_tree(clf, feature_names=X_train.columns)"
      ],
      "metadata": {
        "id": "7scNOLEhYCr-"
      },
      "execution_count": null,
      "outputs": []
    },
    {
      "cell_type": "code",
      "source": [
        "#Naive Bayes - Multinomial\n",
        "MultClas = MultinomialNB()\n",
        "MultClas.fit(X_train, y_train)\n",
        "predict = MultClas.predict(X_test)\n",
        "print(accuracy_score(y_test, predict))\n",
        "# print(classification_report(y_test, predict))\n",
        "\n"
      ],
      "metadata": {
        "colab": {
          "base_uri": "https://localhost:8080/"
        },
        "id": "n06yPWFnY171",
        "outputId": "0d5d2286-6473-42df-ec0c-c19d74e6c671"
      },
      "execution_count": null,
      "outputs": [
        {
          "output_type": "stream",
          "name": "stdout",
          "text": [
            "0.11764705882352941\n"
          ]
        }
      ]
    },
    {
      "cell_type": "code",
      "source": [
        "#Naive Bayes - Bernouli\n",
        "BernClas = BernoulliNB(binarize=True)\n",
        "BernClas.fit(X_train, y_train)\n",
        "predictBern = BernClas.predict(X_test)\n",
        "print(accuracy_score(y_test, predictBern))\n",
        "# print(classification_report(y_test, predictBern))\n",
        "\n"
      ],
      "metadata": {
        "id": "tEzJw5b6ZC5R",
        "colab": {
          "base_uri": "https://localhost:8080/"
        },
        "outputId": "01fac3c2-23df-4960-c50a-40ff65482cab"
      },
      "execution_count": null,
      "outputs": [
        {
          "output_type": "stream",
          "name": "stdout",
          "text": [
            "0.029411764705882353\n"
          ]
        }
      ]
    },
    {
      "cell_type": "code",
      "source": [
        "#Naive Bayes - Gaussian\n",
        "GausClas = GaussianNB()\n",
        "GausClas.fit(X_train, y_train)\n",
        "predictGaus = GausClas.predict(X_test)\n",
        "print(accuracy_score(y_test, predictGaus))\n",
        "# print(classification_report(y_test, predictGaus))\n"
      ],
      "metadata": {
        "colab": {
          "base_uri": "https://localhost:8080/"
        },
        "id": "Hoz19oUW4UMl",
        "outputId": "d90f2d28-16e2-4cb3-9b1d-b95b8dd5fc88"
      },
      "execution_count": null,
      "outputs": [
        {
          "output_type": "stream",
          "name": "stdout",
          "text": [
            "0.5882352941176471\n"
          ]
        }
      ]
    },
    {
      "cell_type": "code",
      "source": [],
      "metadata": {
        "id": "dqlZMVNk4-V5"
      },
      "execution_count": null,
      "outputs": []
    }
  ]
}
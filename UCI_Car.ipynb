{
  "nbformat": 4,
  "nbformat_minor": 0,
  "metadata": {
    "colab": {
      "name": "UCI_Car.ipynb",
      "provenance": [],
      "collapsed_sections": [],
      "authorship_tag": "ABX9TyPXLA0BLqsQC5bEvaPTS8Gv",
      "include_colab_link": true
    },
    "kernelspec": {
      "name": "python3",
      "display_name": "Python 3"
    },
    "language_info": {
      "name": "python"
    }
  },
  "cells": [
    {
      "cell_type": "markdown",
      "metadata": {
        "id": "view-in-github",
        "colab_type": "text"
      },
      "source": [
        "<a href=\"https://colab.research.google.com/github/daniloc7/Colab_RedesNeurais/blob/main/UCI_Car.ipynb\" target=\"_parent\"><img src=\"https://colab.research.google.com/assets/colab-badge.svg\" alt=\"Open In Colab\"/></a>"
      ]
    },
    {
      "cell_type": "code",
      "execution_count": null,
      "metadata": {
        "colab": {
          "base_uri": "https://localhost:8080/"
        },
        "id": "aPkdM6Gs57pO",
        "outputId": "dcc26b56-5499-4ebd-8290-d1590c0f53ad"
      },
      "outputs": [
        {
          "output_type": "stream",
          "name": "stdout",
          "text": [
            "Populating the interactive namespace from numpy and matplotlib\n"
          ]
        },
        {
          "output_type": "stream",
          "name": "stderr",
          "text": [
            "/usr/local/lib/python3.7/dist-packages/IPython/core/magics/pylab.py:160: UserWarning: pylab import has clobbered these variables: ['clf']\n",
            "`%matplotlib` prevents importing * from pylab and numpy\n",
            "  \"\\n`%matplotlib` prevents importing * from pylab and numpy\"\n"
          ]
        }
      ],
      "source": [
        "import pandas as pd\n",
        "import numpy as np\n",
        "import time\n",
        "%pylab inline"
      ]
    },
    {
      "cell_type": "code",
      "source": [
        "from sklearn import tree\n",
        "from sklearn.tree import plot_tree   \n",
        "from sklearn.tree import DecisionTreeClassifier\n",
        "# from sklearn.tree import DecisionTreeRegressor\n",
        "from sklearn.model_selection import train_test_split\n",
        "from sklearn import metrics\n",
        "from sklearn.metrics import accuracy_score\n",
        "from sklearn.metrics import classification_report\n",
        "from sklearn.naive_bayes import BernoulliNB\n",
        "from sklearn.naive_bayes import GaussianNB\n",
        "from sklearn.naive_bayes import MultinomialNB\n",
        "from sklearn.preprocessing import LabelEncoder"
      ],
      "metadata": {
        "id": "UU0LdLAf6Ayy"
      },
      "execution_count": null,
      "outputs": []
    },
    {
      "cell_type": "code",
      "source": [
        "col_names = ['buying','maint','doors','persons','lug_boot','safety','class','label']\n",
        "data = pd.read_csv(\"/content/car.data\", header=None, names = col_names)\n",
        "le = LabelEncoder()\n",
        "for i in data.columns:\n",
        "    if i !=6:\n",
        "        data[i] = le.fit_transform(data[i])"
      ],
      "metadata": {
        "id": "bwiSmvRv6CRp"
      },
      "execution_count": null,
      "outputs": []
    },
    {
      "cell_type": "code",
      "source": [
        "decision_cols = ['buying','maint','doors','persons','lug_boot','safety']\n",
        "X = data[decision_cols]\n",
        "y = data['class']"
      ],
      "metadata": {
        "id": "QfEeDGWP6oX3"
      },
      "execution_count": null,
      "outputs": []
    },
    {
      "cell_type": "code",
      "source": [
        "X_train, X_test, y_train, y_test = train_test_split(X, y, test_size = 0.2, random_state = 0)"
      ],
      "metadata": {
        "id": "g67INDBr7L3O"
      },
      "execution_count": null,
      "outputs": []
    },
    {
      "cell_type": "code",
      "source": [
        "# DecisionTreeClassifier\n",
        "clf = DecisionTreeClassifier(criterion='entropy', max_depth=5)\n",
        "clf = clf.fit(X_train, y_train)\n",
        "y_pred = clf.predict(X_test)\n",
        "print(\"Acurácia \", metrics.accuracy_score(y_test, y_pred,))\n",
        "# print(classification_report(y_test, y_pred))\n",
        "\n",
        "# classifier = MultinomialNB()\n",
        "# classifier.fit(X_train, y_train)"
      ],
      "metadata": {
        "colab": {
          "base_uri": "https://localhost:8080/"
        },
        "id": "o32c6eIW7RQE",
        "outputId": "a5eb10b8-19e3-4a60-b674-85a9796fbbe3"
      },
      "execution_count": null,
      "outputs": [
        {
          "output_type": "stream",
          "name": "stdout",
          "text": [
            "Acurácia  0.846820809248555\n"
          ]
        }
      ]
    },
    {
      "cell_type": "code",
      "source": [
        "#Naive Bayes - Multinomial\n",
        "MultClas = MultinomialNB()\n",
        "MultClas.fit(X_train, y_train)\n",
        "predict = MultClas.predict(X_test)\n",
        "print(accuracy_score(y_test, predict))\n",
        "# print(classification_report(y_test, predict))"
      ],
      "metadata": {
        "colab": {
          "base_uri": "https://localhost:8080/"
        },
        "id": "r8Fxx7Gq7VOY",
        "outputId": "20917dd7-f668-4555-a97e-1ce46b7be1f9"
      },
      "execution_count": null,
      "outputs": [
        {
          "output_type": "stream",
          "name": "stdout",
          "text": [
            "0.6936416184971098\n"
          ]
        }
      ]
    },
    {
      "cell_type": "code",
      "source": [
        "#Naive Bayes - Bernouli\n",
        "BernClas = BernoulliNB(binarize=True)\n",
        "BernClas.fit(X_train, y_train)\n",
        "predictBern = BernClas.predict(X_test)\n",
        "print(accuracy_score(y_test, predictBern))\n",
        "# print(classification_report(y_test, predictBern))"
      ],
      "metadata": {
        "colab": {
          "base_uri": "https://localhost:8080/"
        },
        "id": "WfCeQyRN9M19",
        "outputId": "660dfe12-3dab-4ce9-d654-9158fc9a95da"
      },
      "execution_count": null,
      "outputs": [
        {
          "output_type": "stream",
          "name": "stdout",
          "text": [
            "0.6907514450867052\n"
          ]
        }
      ]
    },
    {
      "cell_type": "code",
      "source": [
        "#Naive Bayes - Gaussian\n",
        "GausClas = GaussianNB()\n",
        "GausClas.fit(X_train, y_train)\n",
        "predictGaus = GausClas.predict(X_test)\n",
        "print(accuracy_score(y_test, predictGaus))\n",
        "# print(classification_report(y_test, predictGaus))"
      ],
      "metadata": {
        "colab": {
          "base_uri": "https://localhost:8080/"
        },
        "id": "jp5WlRc-9U70",
        "outputId": "da532897-654f-426d-b279-699a5bcd45a3"
      },
      "execution_count": null,
      "outputs": [
        {
          "output_type": "stream",
          "name": "stdout",
          "text": [
            "0.6184971098265896\n"
          ]
        }
      ]
    },
    {
      "cell_type": "code",
      "source": [],
      "metadata": {
        "id": "WulgVu_-9YQ7"
      },
      "execution_count": null,
      "outputs": []
    }
  ]
}